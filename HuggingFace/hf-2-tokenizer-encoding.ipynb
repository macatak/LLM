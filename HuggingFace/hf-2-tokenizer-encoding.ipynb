{
 "cells": [
  {
   "cell_type": "code",
   "execution_count": 1,
   "id": "c4672c6c-42c3-46f3-a0d7-b2252b76c520",
   "metadata": {},
   "outputs": [],
   "source": [
    "# tokenizers - translate text into data that can be processed by the model\n",
    "# i.e. convert text to numbers\n",
    "# from HF training - https://huggingface.co/learn/nlp-course/chapter2/4"
   ]
  },
  {
   "cell_type": "code",
   "execution_count": 2,
   "id": "e8b3d5cc-100c-4c15-a3b8-8392079985d6",
   "metadata": {},
   "outputs": [
    {
     "name": "stdout",
     "output_type": "stream",
     "text": [
      "['Ford', 'and', 'Zaphod', 'were', 'cousins']\n"
     ]
    }
   ],
   "source": [
    "# word based\n",
    "# split will do this based on white space\n",
    "tokenized_text = \"Ford and Zaphod were cousins\".split()\n",
    "print(tokenized_text)"
   ]
  },
  {
   "cell_type": "code",
   "execution_count": 3,
   "id": "738a91de-93e5-4a75-baa9-6bddaafd3414",
   "metadata": {},
   "outputs": [
    {
     "data": {
      "text/plain": [
       "{'input_ids': [101, 4100, 1105, 163, 25890, 5412, 1127, 14904, 102], 'token_type_ids': [0, 0, 0, 0, 0, 0, 0, 0, 0], 'attention_mask': [1, 1, 1, 1, 1, 1, 1, 1, 1]}"
      ]
     },
     "execution_count": 3,
     "metadata": {},
     "output_type": "execute_result"
    }
   ],
   "source": [
    "from transformers import BertTokenizer\n",
    "\n",
    "tokenizer = BertTokenizer.from_pretrained(\"bert-base-cased\")\n",
    "tokenizer(\"Ford and Zaphod were cousins\")"
   ]
  },
  {
   "cell_type": "code",
   "execution_count": 4,
   "id": "57eb1ea3-9d08-411a-b843-fce9c20dce25",
   "metadata": {},
   "outputs": [
    {
     "data": {
      "text/plain": [
       "('/m2-data/llm/tokenizer/tokenizer_config.json',\n",
       " '/m2-data/llm/tokenizer/special_tokens_map.json',\n",
       " '/m2-data/llm/tokenizer/vocab.txt',\n",
       " '/m2-data/llm/tokenizer/added_tokens.json')"
      ]
     },
     "execution_count": 4,
     "metadata": {},
     "output_type": "execute_result"
    }
   ],
   "source": [
    "# save it to a local folder\n",
    "tokenizer.save_pretrained(\"/m2-data/llm/tokenizer\")"
   ]
  },
  {
   "cell_type": "code",
   "execution_count": 5,
   "id": "35b3dc8f-4679-43ad-ad89-94510a1438fd",
   "metadata": {},
   "outputs": [
    {
     "name": "stdout",
     "output_type": "stream",
     "text": [
      "['Using', 'a', 'Trans', '##former', 'network', 'is', 'simple']\n",
      "['Ford', 'and', 'Z', '##aph', '##od', 'were', 'cousins']\n"
     ]
    }
   ],
   "source": [
    "# encoding - tokenize and convert to numeric input IDs\n",
    "# is a subword meaning it breaks wors up to components the model knows\n",
    "from transformers import AutoTokenizer\n",
    "\n",
    "tokenizer = AutoTokenizer.from_pretrained(\"bert-base-cased\")\n",
    "\n",
    "sequence = \"Using a Transformer network is simple\"\n",
    "tokens = tokenizer.tokenize(sequence)\n",
    "print(tokens)\n",
    "\n",
    "sequence2 = \"Ford and Zaphod were cousins\"\n",
    "tokens2 = tokenizer.tokenize(sequence2)\n",
    "print(tokens2)"
   ]
  },
  {
   "cell_type": "code",
   "execution_count": 6,
   "id": "4e09130e-f586-4279-a651-3fec2454c490",
   "metadata": {},
   "outputs": [
    {
     "name": "stdout",
     "output_type": "stream",
     "text": [
      "[7993, 170, 13809, 23763, 2443, 1110, 3014]\n"
     ]
    }
   ],
   "source": [
    "ids = tokenizer.convert_tokens_to_ids(tokens)\n",
    "print(ids)"
   ]
  },
  {
   "cell_type": "code",
   "execution_count": 7,
   "id": "5f7a9a1f-3f32-4188-ad52-80911cdca217",
   "metadata": {},
   "outputs": [
    {
     "name": "stdout",
     "output_type": "stream",
     "text": [
      "[4100, 1105, 163, 25890, 5412, 1127, 14904]\n"
     ]
    }
   ],
   "source": [
    "ids2 = tokenizer.convert_tokens_to_ids(tokens2)\n",
    "print(ids2)"
   ]
  },
  {
   "cell_type": "code",
   "execution_count": 10,
   "id": "9afb72fc-06db-44c0-8c1b-3e3e7290a285",
   "metadata": {},
   "outputs": [
    {
     "name": "stderr",
     "output_type": "stream",
     "text": [
      "2024-07-23 18:00:25.245467: E external/local_xla/xla/stream_executor/cuda/cuda_fft.cc:485] Unable to register cuFFT factory: Attempting to register factory for plugin cuFFT when one has already been registered\n",
      "2024-07-23 18:00:25.264578: E external/local_xla/xla/stream_executor/cuda/cuda_dnn.cc:8454] Unable to register cuDNN factory: Attempting to register factory for plugin cuDNN when one has already been registered\n",
      "2024-07-23 18:00:25.270161: E external/local_xla/xla/stream_executor/cuda/cuda_blas.cc:1452] Unable to register cuBLAS factory: Attempting to register factory for plugin cuBLAS when one has already been registered\n",
      "2024-07-23 18:00:25.283746: I tensorflow/core/platform/cpu_feature_guard.cc:210] This TensorFlow binary is optimized to use available CPU instructions in performance-critical operations.\n",
      "To enable the following instructions: AVX2 FMA, in other operations, rebuild TensorFlow with the appropriate compiler flags.\n",
      "2024-07-23 18:00:26.124552: W tensorflow/compiler/tf2tensorrt/utils/py_utils.cc:38] TF-TRT Warning: Could not find TensorRT\n"
     ]
    },
    {
     "name": "stdout",
     "output_type": "stream",
     "text": [
      "Ford and Zaphod were cousins\n"
     ]
    }
   ],
   "source": [
    "# decoding - taking the tokens back to the original text\n",
    "print(tokenizer.decode(ids2))"
   ]
  }
 ],
 "metadata": {
  "kernelspec": {
   "display_name": "Python 3 (ipykernel)",
   "language": "python",
   "name": "python3"
  },
  "language_info": {
   "codemirror_mode": {
    "name": "ipython",
    "version": 3
   },
   "file_extension": ".py",
   "mimetype": "text/x-python",
   "name": "python",
   "nbconvert_exporter": "python",
   "pygments_lexer": "ipython3",
   "version": "3.11.8"
  }
 },
 "nbformat": 4,
 "nbformat_minor": 5
}
