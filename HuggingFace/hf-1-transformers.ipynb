{
 "cells": [
  {
   "cell_type": "code",
   "execution_count": null,
   "id": "54344082-4a4e-48bb-a8c5-498d4d98a2ca",
   "metadata": {},
   "outputs": [],
   "source": [
    "# hugging face training\n",
    "# https://huggingface.co/learn/nlp-course/chapter1/1\n",
    "# transformers - what can they do"
   ]
  },
  {
   "cell_type": "code",
   "execution_count": null,
   "id": "fc34d0e3-cecd-4f0f-852e-493b5b0503fb",
   "metadata": {},
   "outputs": [],
   "source": [
    "# !pip install datasets evaluate transformers[sentencepiece]"
   ]
  },
  {
   "cell_type": "code",
   "execution_count": null,
   "id": "99ead97c-d133-408a-84d5-b92f401cb042",
   "metadata": {
    "scrolled": true
   },
   "outputs": [],
   "source": [
    "# pip install tf-keras"
   ]
  },
  {
   "cell_type": "code",
   "execution_count": null,
   "id": "b55f8988-1438-4dde-917e-97912ea2ab83",
   "metadata": {},
   "outputs": [],
   "source": [
    "# pip install sentencepiece"
   ]
  },
  {
   "cell_type": "markdown",
   "id": "66908bac-a354-448e-8a5d-a886b3e4ee96",
   "metadata": {},
   "source": [
    "### Pipelines\n",
    "\n",
    "- Feature Extraction\n",
    "    - Explanation: Converts text into numerical representations that can be used as input features for other machine learning models.\n",
    "    - Example Use Case: Obtaining text embeddings for clustering or as input to another model.\n",
    "\n",
    "- Fill-Mask\n",
    "    - Explanation: Predicts masked words within a sentence, typically used with masked language models like BERT.\n",
    "    - Example Use Case: Predicting missing words in sentences for data augmentation or sentence completion tasks.\n",
    "\n",
    "- Named Entity Recognition (NER)\n",
    "    - Explanation: Identifies and classifies named entities (e.g., persons, organizations, locations) in text.\n",
    "    - Example Use Case: Extracting names of people and organizations from news articles.\n",
    "\n",
    "- Question Answering\n",
    "    - Explanation: Provides answers to questions based on a given context.\n",
    "    - Example Use Case: Creating a Q&A system for customer support where users can ask questions and get answers from a knowledge base.\n",
    "\n",
    "- Sentiment Analysis\n",
    "    - Explanation: Determines the sentiment expressed in a piece of text (e.g., positive, negative, neutral).\n",
    "    - Example Use Case: Analyzing customer reviews to gauge overall satisfaction.\n",
    "\n",
    "- Summarization\n",
    "    - Explanation: Summarizes long pieces of text into shorter, concise versions.\n",
    "    - Example Use Case: Summarizing lengthy articles or reports to provide quick overviews.\n",
    "\n",
    "- Text Generation\n",
    "    - Explanation: Generates text based on a given prompt using models like GPT-3.\n",
    "    - Example Use Case: Creating creative content such as stories, poems, or dialogue for games.\n",
    "\n",
    "- Translation\n",
    "    - Explanation: Translates text from one language to another.\n",
    "    - Example Use Case: Translating user queries in multiple languages for a multilingual chatbot.\n",
    "\n",
    "- Zero-Shot Classification\n",
    "    - Explanation: Classifies text into categories without any prior training on those specific categories.\n",
    "    - Example Use Case: Categorizing emails or documents into custom categories without having labeled training data."
   ]
  },
  {
   "cell_type": "code",
   "execution_count": null,
   "id": "b819d166-44e0-46fe-8a1c-3b02ce6e442e",
   "metadata": {},
   "outputs": [],
   "source": [
    "from transformers import pipeline\n",
    "# Use just the CPU\n",
    "# classifier = pipeline(\"sentiment-analysis\")\n",
    "#\n",
    "# use GPU\n",
    "# score is confidence level\n",
    "classifier = pipeline(\"sentiment-analysis\", device=0)\n",
    "classifier(\"I've been waiting for a HuggingFace course my whole life.\")"
   ]
  },
  {
   "cell_type": "code",
   "execution_count": null,
   "id": "1cd7275b-204b-452c-abb9-d3620de1f2e3",
   "metadata": {},
   "outputs": [],
   "source": [
    "from transformers import pipeline\n",
    "\n",
    "# judges sentiment\n",
    "# 1st phrase is positive\n",
    "# 2nd phrase is negative\n",
    "classifier = pipeline(\"sentiment-analysis\", device=0)\n",
    "classifier(\n",
    "    [\"I've been waiting for a HuggingFace course my whole life.\", \"I hate this so much!\"]\n",
    ")"
   ]
  },
  {
   "cell_type": "code",
   "execution_count": null,
   "id": "27dc6ca6-cd42-417b-b932-bf51ce8b0865",
   "metadata": {},
   "outputs": [],
   "source": [
    "from transformers import pipeline\n",
    "# GPU\n",
    "# zero-shot lets user select the labels for the classification\n",
    "classifier = pipeline(\"zero-shot-classification\", device=0)\n",
    "classifier(\n",
    "    \"This is a course about the Transformers library\",\n",
    "    candidate_labels=[\"education\", \"politics\", \"business\"],\n",
    ")"
   ]
  },
  {
   "cell_type": "code",
   "execution_count": null,
   "id": "30994386-88e8-4f29-a91e-c9b606d7bb58",
   "metadata": {},
   "outputs": [],
   "source": [
    "from transformers import pipeline\n",
    "# GPU\n",
    "# zero-shot lets user select the labels for the classification\n",
    "classifier = pipeline(\"zero-shot-classification\", device=0)\n",
    "classifier(\n",
    "    \"The republicans and democrats can only agree on the fact that neiman marcus is vastly overprices\",\n",
    "    candidate_labels=[\"education\", \"politics\", \"business\"],\n",
    ")"
   ]
  },
  {
   "cell_type": "code",
   "execution_count": null,
   "id": "fd76a8d8-a6b1-42fb-a768-1040c8ae42c0",
   "metadata": {},
   "outputs": [],
   "source": [
    "from transformers import pipeline\n",
    "# GPU\n",
    "# zero-shot lets user select the labels for the classification\n",
    "classifier = pipeline(\"zero-shot-classification\", device=0)\n",
    "classifier(\n",
    "    \"The republicans and democrats can only agree on the fact that WalMart is great\",\n",
    "    candidate_labels=[\"education\", \"politics\", \"business\"],\n",
    ")"
   ]
  },
  {
   "cell_type": "code",
   "execution_count": null,
   "id": "68c3ee59-d371-4b4b-928e-1e96736a7ca0",
   "metadata": {},
   "outputs": [],
   "source": [
    "from transformers import pipeline\n",
    "# uses prompt to generate text\n",
    "generator = pipeline(\"text-generation\", device=0)\n",
    "generator(\"In this course, we will teach you how to\")"
   ]
  },
  {
   "cell_type": "code",
   "execution_count": null,
   "id": "c90a9760-f170-43f2-bc4a-31682972ee59",
   "metadata": {},
   "outputs": [],
   "source": [
    "from transformers import pipeline\n",
    "# same generation but with model specified\n",
    "generator = pipeline(\"text-generation\", model=\"distilgpt2\", device=0)\n",
    "generator(\n",
    "    \"In this course, we will teach you how to\",\n",
    "    # max length to return\n",
    "    max_length=30,\n",
    "    # number of items to return\n",
    "    num_return_sequences=3,\n",
    ")"
   ]
  },
  {
   "cell_type": "code",
   "execution_count": null,
   "id": "e317bb03-bcee-4df3-86a2-4d4098f3642f",
   "metadata": {},
   "outputs": [],
   "source": [
    "from transformers import pipeline\n",
    "# fill-mask predicts missing words\n",
    "unmasker = pipeline(\"fill-mask\", device=0)\n",
    "# top_k2 is how many liely values to return\n",
    "unmasker(\"This course will teach you all about <mask> models.\", top_k=5)"
   ]
  },
  {
   "cell_type": "code",
   "execution_count": null,
   "id": "46d15035-a781-48d6-841f-664ac5e23950",
   "metadata": {},
   "outputs": [],
   "source": [
    "from transformers import pipeline\n",
    "# ner tries to identify objects like persons, organizations, or locations\n",
    "ner = pipeline(\"ner\", grouped_entities=True, device=0)\n",
    "ner(\"My name is Sylvain and I work at Hugging Face in Brooklyn.\")"
   ]
  },
  {
   "cell_type": "code",
   "execution_count": null,
   "id": "bae104e7-611d-4460-b4ba-844d4be0ef22",
   "metadata": {},
   "outputs": [],
   "source": [
    "# from transformers import pipeline\n",
    "# exactly what is sounds like, answer a question\n",
    "question_answerer = pipeline(\"question-answering\", device=0)\n",
    "question_answerer(\n",
    "    question=\"Where do I work?\",\n",
    "    context=\"My name is Sylvain and I work at Hugging Face in Brooklyn\",\n",
    ")"
   ]
  },
  {
   "cell_type": "code",
   "execution_count": null,
   "id": "655fc7a4-2a65-46fe-85e0-cba3b4cc418c",
   "metadata": {},
   "outputs": [],
   "source": [
    "from transformers import pipeline\n",
    "# summerize text\n",
    "summarizer = pipeline(\"summarization\", device=0)\n",
    "summarizer(\n",
    "    \"\"\"\n",
    "    America has changed dramatically during recent years. Not only has the number of \n",
    "    graduates in traditional engineering disciplines such as mechanical, civil, \n",
    "    electrical, chemical, and aeronautical engineering declined, but in most of \n",
    "    the premier American universities engineering curricula now concentrate on \n",
    "    and encourage largely the study of engineering science. As a result, there \n",
    "    are declining offerings in engineering subjects dealing with infrastructure, \n",
    "    the environment, and related issues, and greater concentration on high \n",
    "    technology subjects, largely supporting increasingly complex scientific \n",
    "    developments. While the latter is important, it should not be at the expense \n",
    "    of more traditional engineering.\n",
    "\n",
    "    Rapidly developing economies such as China and India, as well as other \n",
    "    industrial countries in Europe and Asia, continue to encourage and advance \n",
    "    the teaching of engineering. Both China and India, respectively, graduate \n",
    "    six and eight times as many traditional engineers as does the United States. \n",
    "    Other industrial countries at minimum maintain their output, while America \n",
    "    suffers an increasingly serious decline in the number of engineering graduates \n",
    "    and a lack of well-educated engineers.\n",
    "\"\"\"\n",
    ")"
   ]
  },
  {
   "cell_type": "code",
   "execution_count": null,
   "id": "dfabeae7-887d-4863-b414-d6ddb6c90b63",
   "metadata": {},
   "outputs": [],
   "source": [
    "from transformers import pipeline\n",
    "\n",
    "translator = pipeline(\"translation\", model=\"Helsinki-NLP/opus-mt-fr-en\", device=0)\n",
    "translator(\"Ce cours est produit par Hugging Face.\")"
   ]
  },
  {
   "cell_type": "code",
   "execution_count": null,
   "id": "518a6b5e-800e-48f3-bdac-3108275ab2fd",
   "metadata": {},
   "outputs": [],
   "source": []
  }
 ],
 "metadata": {
  "kernelspec": {
   "display_name": "Python (AI Training)",
   "language": "python",
   "name": "ai_training_env"
  },
  "language_info": {
   "codemirror_mode": {
    "name": "ipython",
    "version": 3
   },
   "file_extension": ".py",
   "mimetype": "text/x-python",
   "name": "python",
   "nbconvert_exporter": "python",
   "pygments_lexer": "ipython3",
   "version": "3.11.8"
  }
 },
 "nbformat": 4,
 "nbformat_minor": 5
}
