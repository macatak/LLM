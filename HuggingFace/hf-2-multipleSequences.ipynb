{
 "cells": [
  {
   "cell_type": "code",
   "execution_count": 1,
   "id": "15d7309e-a755-4c0b-b6b6-cea13d738164",
   "metadata": {},
   "outputs": [],
   "source": [
    "# multiple sequences\n",
    "# based on https://huggingface.co/learn/nlp-course/chapter2/5"
   ]
  },
  {
   "cell_type": "code",
   "execution_count": 2,
   "id": "c3c8b453-a903-4082-b422-063228817706",
   "metadata": {},
   "outputs": [],
   "source": [
    "# handling batch inputs"
   ]
  },
  {
   "cell_type": "code",
   "execution_count": 9,
   "id": "d5b0c93b-bdf7-4dd2-bc8b-9cf9d829375a",
   "metadata": {},
   "outputs": [
    {
     "name": "stdout",
     "output_type": "stream",
     "text": [
      "Input IDs: tensor([[ 4811,  1998, 23564,  8458,  7716,  2020, 12334]])\n",
      "Logits: tensor([[-0.9555,  1.0167]], grad_fn=<AddmmBackward0>)\n"
     ]
    }
   ],
   "source": [
    "import torch\n",
    "from transformers import AutoTokenizer, AutoModelForSequenceClassification\n",
    "\n",
    "checkpoint = \"distilbert-base-uncased-finetuned-sst-2-english\"\n",
    "tokenizer = AutoTokenizer.from_pretrained(checkpoint)\n",
    "model = AutoModelForSequenceClassification.from_pretrained(checkpoint)\n",
    "\n",
    "sequence = \"Ford and Zaphod were cousins\"\n",
    "\n",
    "tokens = tokenizer.tokenize(sequence)\n",
    "ids = tokenizer.convert_tokens_to_ids(tokens)\n",
    "input_ids = torch.tensor(ids)\n",
    "# This line will fail.\n",
    "# models expect multiple sentences by default.\n",
    "# model(input_ids)  # IndexError: too many indices for tensor of dimension 1\n",
    "\n",
    "# this will not\n",
    "input_ids = torch.tensor([ids])\n",
    "print(\"Input IDs:\", input_ids)\n",
    "\n",
    "output = model(input_ids)\n",
    "print(\"Logits:\", output.logits)"
   ]
  },
  {
   "cell_type": "code",
   "execution_count": 11,
   "id": "120e6e4d-d3b8-4063-bae6-a5a51c61e35a",
   "metadata": {},
   "outputs": [
    {
     "name": "stdout",
     "output_type": "stream",
     "text": [
      "[[4811, 1998, 23564, 8458, 7716, 2020, 12334], [4811, 1998, 23564, 8458, 7716, 2020, 12334]]\n"
     ]
    }
   ],
   "source": [
    "# Batching sends multiple sentences through the model at once\n",
    "# If you only have one sentence then build a batch with a single sequence:\n",
    "batched_ids = [ids, ids]\n",
    "\n",
    "print(batched_ids)"
   ]
  },
  {
   "cell_type": "code",
   "execution_count": 15,
   "id": "577a8323-5b97-46a7-bbde-db72b3e9aa57",
   "metadata": {},
   "outputs": [
    {
     "name": "stderr",
     "output_type": "stream",
     "text": [
      "We strongly recommend passing in an `attention_mask` since your input_ids may be padded. See https://huggingface.co/docs/transformers/troubleshooting#incorrect-output-when-padding-tokens-arent-masked.\n"
     ]
    },
    {
     "name": "stdout",
     "output_type": "stream",
     "text": [
      "tensor([[ 1.5694, -1.3895]], grad_fn=<AddmmBackward0>)\n",
      "tensor([[ 0.5803, -0.4125]], grad_fn=<AddmmBackward0>)\n",
      "tensor([[ 1.5694, -1.3895],\n",
      "        [ 1.3374, -1.2163]], grad_fn=<AddmmBackward0>)\n"
     ]
    }
   ],
   "source": [
    "# padding - required b/c tensors need inputs of the same length\n",
    "# this would be an issue\n",
    "'''\n",
    "batched_ids = [\n",
    "   [200, 200, 200],\n",
    "    [200, 200]\n",
    "]\n",
    "'''\n",
    "model = AutoModelForSequenceClassification.from_pretrained(checkpoint)\n",
    "\n",
    "sequence1_ids = [[200, 200, 200]]\n",
    "sequence2_ids = [[200, 200]]\n",
    "batched_ids = [\n",
    "    [200, 200, 200],\n",
    "    [200, 200, tokenizer.pad_token_id],\n",
    "]\n",
    "\n",
    "print(model(torch.tensor(sequence1_ids)).logits)\n",
    "print(model(torch.tensor(sequence2_ids)).logits)\n",
    "print(model(torch.tensor(batched_ids)).logits)"
   ]
  },
  {
   "cell_type": "markdown",
   "id": "9f8aa901-e057-46fa-9716-f9435d218532",
   "metadata": {},
   "source": [
    "Attention masks are tensors with the exact same shape as the input IDs tensor, filled with 0s and 1s:  \n",
    "1s indicate the corresponding tokens should be attended to  \n",
    "0s indicate the corresponding tokens should not be attended to "
   ]
  },
  {
   "cell_type": "code",
   "execution_count": 16,
   "id": "3d1a1eb0-f8d8-4c47-ad6d-85de8059bf19",
   "metadata": {},
   "outputs": [
    {
     "name": "stdout",
     "output_type": "stream",
     "text": [
      "tensor([[ 1.5694, -1.3895],\n",
      "        [ 0.5803, -0.4125]], grad_fn=<AddmmBackward0>)\n"
     ]
    }
   ],
   "source": [
    "# setting the attention mask to ignore the padding\n",
    "batched_ids = [\n",
    "    [200, 200, 200],\n",
    "    [200, 200, tokenizer.pad_token_id],\n",
    "]\n",
    "attention_mask = [\n",
    "    [1, 1, 1],\n",
    "    [1, 1, 0],\n",
    "]\n",
    "outputs = model(torch.tensor(batched_ids), attention_mask=torch.tensor(attention_mask))\n",
    "print(outputs.logits)"
   ]
  }
 ],
 "metadata": {
  "kernelspec": {
   "display_name": "Python 3 (ipykernel)",
   "language": "python",
   "name": "python3"
  },
  "language_info": {
   "codemirror_mode": {
    "name": "ipython",
    "version": 3
   },
   "file_extension": ".py",
   "mimetype": "text/x-python",
   "name": "python",
   "nbconvert_exporter": "python",
   "pygments_lexer": "ipython3",
   "version": "3.11.8"
  }
 },
 "nbformat": 4,
 "nbformat_minor": 5
}
