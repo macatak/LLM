{
 "cells": [
  {
   "cell_type": "markdown",
   "id": "70b596d7-6bbb-412c-af1a-905041579cb2",
   "metadata": {},
   "source": [
    "# langchain RTFM \n",
    "\n",
    "Using a local Ollama and following ...  \n",
    "https://python.langchain.com/v0.1/docs/get_started/quickstart/"
   ]
  },
  {
   "cell_type": "code",
   "execution_count": 28,
   "id": "84f73c2c-d682-4702-a2de-252de7ada674",
   "metadata": {},
   "outputs": [],
   "source": [
    "# model select (not part of the guide, guide used llama2\n",
    "\n",
    "# model_name = \"gemma2:9b\"\n",
    "# model_name = \"qwen2.5-coder:7b\"\n",
    "# model_name = \"llama3.1:latest\"  #7b\n",
    "# model_name = \"llama3.2:3b\"\n",
    "# model_name = \"llama3.2:1b\"\n",
    "model_name = \"llama2:latest\"\n",
    "# model_name = \"llama2-uncensored\"\n",
    "# model_name = \"tinyllama:latest\""
   ]
  },
  {
   "cell_type": "code",
   "execution_count": 29,
   "id": "1ac5afda-625e-42b7-a979-7e26939aa99b",
   "metadata": {},
   "outputs": [],
   "source": [
    "# there's a deprecation warning but this is what the site hase\n",
    "# mske sure Ollama is up and accessible\n",
    "from langchain_community.llms import Ollama\n",
    "llm = Ollama(model=model_name)"
   ]
  },
  {
   "cell_type": "markdown",
   "id": "32676acc-c3e9-4599-941f-edc093409ad5",
   "metadata": {},
   "source": [
    "## Chaining \n",
    "Need the following:  \n",
    "1. LLM - processes the input and generates an output\n",
    "2. Prompt Template - define the structure and content of the input query sent to the LLM"
   ]
  },
  {
   "cell_type": "code",
   "execution_count": 30,
   "id": "4ff4d20b-81a9-4eb9-bc18-ea982d67b913",
   "metadata": {},
   "outputs": [
    {
     "data": {
      "text/plain": [
       "'\\nLangsmith is a language model developed by Google that can assist with testing in several ways:\\n\\n1. Code Generation: Langsmith can generate code snippets based on natural language inputs, which can be used to test various aspects of an application. For example, you can ask Langsmith to generate a test case for a specific function, and it will produce a ready-to-run test script.\\n2. Test Case Generation: Langsmith can generate test cases based on the API documentation or requirements of an application. It can help identify potential test scenarios and generate test cases that cover different paths and edge cases.\\n3. Automated Testing: Langsmith can be used to automate testing by generating test scripts that can be executed automatically. This can save time and effort compared to writing and executing tests manually.\\n4. Bug Detection: Langsmith can help identify potential bugs in an application by analyzing the code and identifying areas where errors are likely to occur. It can also suggest possible fixes for known issues.\\n5. Code Review: Langsmith can assist with code review by highlighting potential issues or inconsistencies in the codebase. It can also suggest improvements or best practices for writing clean and maintainable code.\\n6. Test Data Generation: Langsmith can generate test data based on the API documentation or requirements of an application, which can be used to test different scenarios and edge cases.\\n7. Code Coverage Analysis: Langsmith can analyze the code coverage of an application to identify areas that are not being tested enough or are not being tested at all. It can also suggest ways to improve code coverage.\\n8. Test Planning: Langsmith can assist with test planning by identifying the most critical tests to run, prioritizing test cases based on risk and impact, and suggesting a testing schedule.\\n9. Defect Prediction: Langsmith can predict potential defects in an application based on its analysis of the code and past defect data. It can suggest areas where defects are likely to occur and provide recommendations for mitigating them.\\n10. Continuous Testing Integration: Langsmith can be integrated into continuous testing pipelines to automate testing and ensure that tests are running regularly throughout the development process.\\n\\nBy using Langsmith for testing, developers and testers can save time and effort while improving the overall quality of their applications.'"
      ]
     },
     "execution_count": 30,
     "metadata": {},
     "output_type": "execute_result"
    }
   ],
   "source": [
    "# use invoke to query the LLM\n",
    "llm.invoke(\"how can langsmith help with testing?\")"
   ]
  },
  {
   "cell_type": "code",
   "execution_count": 31,
   "id": "631b2104-0cbe-4937-a4f9-dffd26ba1bf4",
   "metadata": {},
   "outputs": [],
   "source": [
    "# provide a prompt template\n",
    "input = str(\"how can langsmith help with testing?\")\n",
    "from langchain_core.prompts import ChatPromptTemplate\n",
    "prompt = ChatPromptTemplate.from_messages([\n",
    "    (\"system\", \"You are a world class technical documentation writer.\"),\n",
    "    (\"user\", \"{input}\")\n",
    "])"
   ]
  },
  {
   "cell_type": "markdown",
   "id": "1cdde400-9545-4a80-9eec-c34b9a7cdfc3",
   "metadata": {},
   "source": [
    "## Simple Chain"
   ]
  },
  {
   "cell_type": "code",
   "execution_count": 32,
   "id": "461c53c4-3592-4461-96d9-754aad3d0c31",
   "metadata": {},
   "outputs": [],
   "source": [
    "# chain them together \n",
    "chain = prompt | llm "
   ]
  },
  {
   "cell_type": "code",
   "execution_count": 33,
   "id": "04a38976-e008-4b25-a896-bb145ea60087",
   "metadata": {},
   "outputs": [
    {
     "data": {
      "text/plain": [
       "\"\\nAh, an excellent question! As a world-class technical documentation writer, I must say that Langsmith is an incredible tool for testing purposes. Here are some ways in which Langsmith can assist you in the testing process:\\n\\n1. Automated Testing: With Langsmith's advanced AI capabilities, you can automate repetitive tasks such as data entry, text analysis, and content creation. This frees up your time to focus on more critical aspects of testing, such as identifying bugs and edge cases.\\n2. Content Generation: Langsmith can generate high-quality content quickly and efficiently, which can be used for testing purposes. For instance, it can create test data sets, test cases, and even automate the creation of documentation for your tests.\\n3. Collaboration Tools: Langsmith provides an intuitive collaboration platform that allows you to work with your team more effectively during testing. You can share insights, ideas, and results in real-time, ensuring that everyone is on the same page.\\n4. Testing Insights: Langsmith's AI engine can provide valuable insights into your testing process. It can identify patterns and trends in your test data, helping you to optimize your testing strategy and improve overall quality.\\n5. Integration with Existing Tools: Langsmith integrates seamlessly with a wide range of testing tools, including JIRA, TestRail, and Postman. This ensures that you can leverage the power of Langsmith's AI without disrupting your existing testing workflow.\\n6. Customizable Workflows: Langsmith allows you to customize its workflows according to your specific testing needs. You can tailor the platform to suit your team's requirements, ensuring that you get the most out of it.\\n7. Continuous Improvement: With Langsmith's AI-powered insights and suggestions, you can continuously improve your testing process. The platform learns from your testing data over time, allowing you to refine your strategy and achieve better results.\\n\\nIn conclusion, Langsmith is an invaluable tool for technical documentation writers who want to streamline their testing process. With its advanced AI capabilities, content generation capabilities, collaboration tools, testing insights, integration with existing tools, customizable workflows, and continuous improvement features, Langsmith can help you deliver high-quality technical documentation more efficiently than ever before.\""
      ]
     },
     "execution_count": 33,
     "metadata": {},
     "output_type": "execute_result"
    }
   ],
   "source": [
    "# send the new prompt\n",
    "# this will be the raw output\n",
    "chain.invoke({\"input\": \"how can langsmith help with testing?\"})"
   ]
  },
  {
   "cell_type": "markdown",
   "id": "56f6cfac-d4f6-497f-b42e-3467e4507170",
   "metadata": {},
   "source": [
    "## Add to the chain"
   ]
  },
  {
   "cell_type": "code",
   "execution_count": 34,
   "id": "66569274-6522-489f-8a26-a243057975af",
   "metadata": {},
   "outputs": [],
   "source": [
    "# add a string parser\n",
    "from langchain_core.output_parsers import StrOutputParser\n",
    "output_parser = StrOutputParser()"
   ]
  },
  {
   "cell_type": "code",
   "execution_count": 35,
   "id": "f7816822-8a8d-43c7-985e-e0ee3877c900",
   "metadata": {},
   "outputs": [],
   "source": [
    "# create a new chain with the parser\n",
    "chain = prompt | llm | output_parser"
   ]
  },
  {
   "cell_type": "code",
   "execution_count": 36,
   "id": "c39f23e2-5193-4dce-a23f-14a56ed3c444",
   "metadata": {},
   "outputs": [
    {
     "data": {
      "text/plain": [
       "\"\\nAs a world-class technical documentation writer, I must say that LingSMITH is an innovative tool that can greatly assist with testing various aspects of technical documents. Here are some ways in which LangSMITH can help with testing:\\n\\n1. Grammar and Spelling Checks: LangSMITH's advanced grammar and spelling checks can help identify and correct errors in your technical documentation, ensuring that your content is error-free and polished.\\n2. Style Guidance: LangSMITH's style guidance feature can help enforce consistency in formatting, layout, and overall style throughout your technical documents. This consistency is crucial for maintaining a professional image and avoiding confusion.\\n3. Terminology Management: With LangSMITH's terminology management feature, you can easily maintain and update your organization's technical terms and definitions. This ensures that your documentation remains accurate and up-to-date.\\n4. Compliance Checking: LangSMITH offers compliance checking capabilities that can help identify potential issues with your technical documentation. This includes checks for formatting, layout, and content that may not meet regulatory or industry standards.\\n5. Content Reuse: LangSMITH's content reuse feature allows you to reuse content from previous documents, reducing the effort required to create new content. This can be particularly useful when creating documentation for new products or features that are based on existing technologies.\\n6. Localization Support: With LangSMITH's localization support, you can easily adapt your technical documentation for different languages and regions. This ensures that your documentation is accessible to a global audience.\\n7. Collaboration Tools: LangSMITH provides collaboration tools that allow multiple team members to work on documents simultaneously. This streamlines the testing process and reduces the risk of errors or inconsistencies.\\n8. Automated Testing: LangSMITH's automated testing feature can help identify potential issues with your technical documentation more quickly and efficiently than manual testing methods. This allows you to catch errors early in the development cycle, reducing the risk of delays or costly rework.\\n9. Integration with Other Tools: LangSMITH integrates seamlessly with other tools and systems, such as version control systems, project management software, and translation management systems. This ensures that your technical documentation is easily integrated into your broader development workflow.\\n10. Customizable Workflows: LangSMITH's customizable workflows allow you to tailor the testing process to meet the specific needs of your organization. This ensures that your technical documentation meets the highest standards of quality and consistency.\\n\\nIn summary, LangSMITH can greatly assist with testing various aspects of technical documents by providing advanced grammar and spelling checks, style guidance, terminology management, compliance checking, content reuse, localization support, collaboration tools, automated testing, integration with other tools, and customizable workflows.\""
      ]
     },
     "execution_count": 36,
     "metadata": {},
     "output_type": "execute_result"
    }
   ],
   "source": [
    "# send it again\n",
    "chain.invoke({\"input\": \"how can langsmith help with testing?\"})"
   ]
  },
  {
   "cell_type": "markdown",
   "id": "94789344-b174-4b3d-a647-491a6e495236",
   "metadata": {},
   "source": [
    "## Web Retrieval Chain  \n",
    "1. Get the data\n",
    "2. Embed in a vector store"
   ]
  },
  {
   "cell_type": "code",
   "execution_count": 37,
   "id": "8bb24348-81ca-4987-a513-64bfb5d31cdf",
   "metadata": {},
   "outputs": [],
   "source": [
    "# get the data\n",
    "# requires beautifulsoup4\n",
    "\n",
    "from langchain_community.document_loaders import WebBaseLoader\n",
    "loader = WebBaseLoader(\"https://docs.smith.langchain.com/user_guide\")\n",
    "\n",
    "docs = loader.load()"
   ]
  },
  {
   "cell_type": "code",
   "execution_count": 38,
   "id": "a3130d38-a2e8-48d0-8e6a-02a1046fef50",
   "metadata": {},
   "outputs": [],
   "source": [
    "# OllamaEmbeddings requires llama2\n",
    "from langchain_community.embeddings import OllamaEmbeddings\n",
    "embeddings = OllamaEmbeddings()"
   ]
  },
  {
   "cell_type": "code",
   "execution_count": 39,
   "id": "485c9b60-f563-44e4-b1f1-a61cc54682d3",
   "metadata": {},
   "outputs": [],
   "source": [
    "# build the index\n",
    "# requires faiss-cpu\n",
    "\n",
    "from langchain_community.vectorstores import FAISS\n",
    "from langchain_text_splitters import RecursiveCharacterTextSplitter\n",
    "\n",
    "text_splitter = RecursiveCharacterTextSplitter()\n",
    "# pass the docs object which is the website loaded\n",
    "documents = text_splitter.split_documents(docs)\n",
    "# add it to the vector store\n",
    "vector = FAISS.from_documents(documents, embeddings)"
   ]
  },
  {
   "cell_type": "markdown",
   "id": "4f3db609-0585-46fe-bdbe-6984a160ead1",
   "metadata": {},
   "source": [
    "### set up the chain"
   ]
  },
  {
   "cell_type": "code",
   "execution_count": 40,
   "id": "3685360a-5748-4f01-9b06-b79ec2d891ff",
   "metadata": {},
   "outputs": [],
   "source": [
    "# without the retriever\n",
    "from langchain.chains.combine_documents import create_stuff_documents_chain\n",
    "\n",
    "prompt = ChatPromptTemplate.from_template(\"\"\"Answer the following question based only on the provided context:\n",
    "\n",
    "<context>\n",
    "{context}\n",
    "</context>\n",
    "\n",
    "Question: {input}\"\"\")\n",
    "\n",
    "document_chain = create_stuff_documents_chain(llm, prompt)"
   ]
  },
  {
   "cell_type": "markdown",
   "id": "7097e0a6-c352-4ac1-8785-aa879f564869",
   "metadata": {},
   "source": [
    "#### No Retriever"
   ]
  },
  {
   "cell_type": "code",
   "execution_count": 41,
   "id": "9c1e3e05-77d0-4cba-b6f9-10c99a061b27",
   "metadata": {},
   "outputs": [
    {
     "data": {
      "text/plain": [
       "'Langsmith can help with testing by providing a platform for visualizing and analyzing test results.'"
      ]
     },
     "execution_count": 41,
     "metadata": {},
     "output_type": "execute_result"
    }
   ],
   "source": [
    "from langchain_core.documents import Document\n",
    "\n",
    "document_chain.invoke({\n",
    "    \"input\": \"how can langsmith help with testing?\",\n",
    "    \"context\": [Document(page_content=\"langsmith can let you visualize test results\")]\n",
    "})"
   ]
  },
  {
   "cell_type": "code",
   "execution_count": 42,
   "id": "881e4c23-147b-479f-915d-f873b98484fb",
   "metadata": {},
   "outputs": [],
   "source": [
    "#### With the retriever"
   ]
  },
  {
   "cell_type": "code",
   "execution_count": 43,
   "id": "79862501-51ee-4eba-bd82-91a7adf675c1",
   "metadata": {},
   "outputs": [],
   "source": [
    "from langchain.chains import create_retrieval_chain\n",
    "\n",
    "retriever = vector.as_retriever()\n",
    "retrieval_chain = create_retrieval_chain(retriever, document_chain)"
   ]
  },
  {
   "cell_type": "code",
   "execution_count": 44,
   "id": "ed5cf23f-e18c-48c0-b3ab-07600a3e5282",
   "metadata": {},
   "outputs": [
    {
     "name": "stdout",
     "output_type": "stream",
     "text": [
      "According to the provided context, LangSmith can help with testing in several ways:\n",
      "\n",
      "1. Prototyping: LangSmith provides a platform for rapid experimentation and debugging of LLM applications. Users can quickly test different prompts, models, and retrieval strategies without having to write code.\n",
      "2. Debugging: When developing new LLM applications, LangSmith tracing is enabled by default. This allows users to easily debug where the model is failing and identify issues.\n",
      "3. Initial Test Set: LangSmith allows developers to create datasets of inputs and reference outputs, which can be used to run tests on their LLM applications.\n",
      "4. Comparison View: LangSmith provides a comparison view for test runs, allowing users to track and diagnose regressions in test scores across multiple revisions of the application.\n",
      "5. Playground: The playground environment allows users to quickly test out different prompts and models without affecting their main application.\n",
      "6. Beta Testing: LangSmith supports beta testing by collecting more data on how the LLM application performs in real-world scenarios. Users can gather human feedback on the responses produced by the application and use this information to improve its performance.\n",
      "7. Annotating Traces: LangSmith allows users to annotate runs with respect to different criteria, which helps catch regressions across important evaluation criteria.\n",
      "8. Adding Runs to a Dataset: As the application progresses through the beta testing phase, users can continue collecting data and adding it to their benchmarking datasets.\n",
      "9. Production: LangSmith provides monitoring charts that allow users to track key metrics over time. Automations can also be used to perform actions on traces in near real-time, such as scoring traces or sending them to annotation queues.\n"
     ]
    }
   ],
   "source": [
    "response = retrieval_chain.invoke({\"input\": \"how can langsmith help with testing?\"})\n",
    "print(response[\"answer\"])\n",
    "\n",
    "# LangSmith offers several features that can help with testing:..."
   ]
  },
  {
   "cell_type": "code",
   "execution_count": null,
   "id": "f3b57684-0943-4798-a6d4-f8c35e2f93dc",
   "metadata": {},
   "outputs": [],
   "source": []
  }
 ],
 "metadata": {
  "kernelspec": {
   "display_name": "Python GPU",
   "language": "python",
   "name": "gpu_enabled"
  },
  "language_info": {
   "codemirror_mode": {
    "name": "ipython",
    "version": 3
   },
   "file_extension": ".py",
   "mimetype": "text/x-python",
   "name": "python",
   "nbconvert_exporter": "python",
   "pygments_lexer": "ipython3",
   "version": "3.11.8"
  }
 },
 "nbformat": 4,
 "nbformat_minor": 5
}
